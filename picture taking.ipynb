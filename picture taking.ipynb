{
 "cells": [
  {
   "cell_type": "code",
   "execution_count": 6,
   "metadata": {},
   "outputs": [
    {
     "name": "stdout",
     "output_type": "stream",
     "text": [
      "1\n",
      "2\n",
      "3\n",
      "4\n",
      "5\n",
      "6\n",
      "7\n",
      "8\n",
      "9\n",
      "10\n"
     ]
    }
   ],
   "source": [
    "import cv2\n",
    "import numpy as np\n",
    "\n",
    "cap = cv2.VideoCapture(0)\n",
    "\n",
    "i = 0\n",
    "while True:\n",
    "    _,frame = cap.read()\n",
    "    frame = cv2.flip(frame,1)\n",
    "    \n",
    "    cv2.rectangle(frame,(360,60),(590,290),(0,255,0),5)\n",
    "    font = cv2.FONT_HERSHEY_SIMPLEX\n",
    "    cv2.putText(frame,'put your right in square',(340,40),font,0.7,(255,255,255),1,cv2.LINE_AA)\n",
    "    cv2.imshow('taking pictures',frame)\n",
    "    k = cv2.waitKey(1)\n",
    "    if k == ord('c'):\n",
    "        i+=1\n",
    "        print(i)\n",
    "        \n",
    "        cv2.imwrite('hand/valid/0/1imag'+str(i)+'.jpg',frame[63:287,363:587])\n",
    "        \n",
    "    \n",
    "    if k ==27:\n",
    "        break\n",
    "        \n",
    "cv2.destroyAllWindows()\n",
    "cap.release()"
   ]
  },
  {
   "cell_type": "code",
   "execution_count": null,
   "metadata": {},
   "outputs": [],
   "source": []
  }
 ],
 "metadata": {
  "kernelspec": {
   "display_name": "Python 3",
   "language": "python",
   "name": "python3"
  },
  "language_info": {
   "codemirror_mode": {
    "name": "ipython",
    "version": 3
   },
   "file_extension": ".py",
   "mimetype": "text/x-python",
   "name": "python",
   "nbconvert_exporter": "python",
   "pygments_lexer": "ipython3",
   "version": "3.6.5"
  }
 },
 "nbformat": 4,
 "nbformat_minor": 2
}
