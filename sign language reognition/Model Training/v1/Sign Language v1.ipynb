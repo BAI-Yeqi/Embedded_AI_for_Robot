{
 "cells": [
  {
   "cell_type": "code",
   "execution_count": 80,
   "metadata": {
    "colab": {
     "autoexec": {
      "startup": false,
      "wait_interval": 0
     },
     "base_uri": "https://localhost:8080/",
     "height": 259
    },
    "colab_type": "code",
    "executionInfo": {
     "elapsed": 8244,
     "status": "ok",
     "timestamp": 1521342007776,
     "user": {
      "displayName": "Yeqi Bai",
      "photoUrl": "https://lh3.googleusercontent.com/a/default-user=s128",
      "userId": "112014639277045566178"
     },
     "user_tz": -480
    },
    "id": "PLpcWF0E_VD_",
    "outputId": "24584ea3-dbd6-4d92-8768-57215c278f80",
    "scrolled": true
   },
   "outputs": [
    {
     "data": {
      "text/plain": [
       "[name: \"/device:CPU:0\"\n",
       " device_type: \"CPU\"\n",
       " memory_limit: 268435456\n",
       " locality {\n",
       " }\n",
       " incarnation: 3226227024945303117, name: \"/device:GPU:0\"\n",
       " device_type: \"GPU\"\n",
       " memory_limit: 133627904\n",
       " locality {\n",
       "   bus_id: 1\n",
       " }\n",
       " incarnation: 6493536985566421878\n",
       " physical_device_desc: \"device: 0, name: GeForce GTX 1060 6GB, pci bus id: 0000:02:00.0, compute capability: 6.1\"]"
      ]
     },
     "execution_count": 80,
     "metadata": {},
     "output_type": "execute_result"
    }
   ],
   "source": [
    "from tensorflow.python.client import device_lib\n",
    "device_lib.list_local_devices()"
   ]
  },
  {
   "cell_type": "markdown",
   "metadata": {
    "colab_type": "text",
    "id": "nBRIlsXXH4Ba"
   },
   "source": [
    "## Start programming!!"
   ]
  },
  {
   "cell_type": "markdown",
   "metadata": {
    "colab_type": "text",
    "id": "l_X1-1Mv340h"
   },
   "source": [
    "### import modules"
   ]
  },
  {
   "cell_type": "code",
   "execution_count": 81,
   "metadata": {
    "colab": {
     "autoexec": {
      "startup": false,
      "wait_interval": 0
     },
     "base_uri": "https://localhost:8080/",
     "height": 36
    },
    "colab_type": "code",
    "executionInfo": {
     "elapsed": 668,
     "status": "ok",
     "timestamp": 1521342009526,
     "user": {
      "displayName": "Yeqi Bai",
      "photoUrl": "https://lh3.googleusercontent.com/a/default-user=s128",
      "userId": "112014639277045566178"
     },
     "user_tz": -480
    },
    "id": "TYuspzG8AkhU",
    "outputId": "4885d822-e111-4945-be9b-8d6a2ffd4b8e"
   },
   "outputs": [],
   "source": [
    "import numpy as np\n",
    "\n",
    "from sklearn.preprocessing import OneHotEncoder\n",
    "from keras import layers\n",
    "from keras.models import Model, load_model\n",
    "from keras import regularizers\n",
    "import keras\n",
    "\n",
    "from sklearn.metrics import accuracy_score\n",
    "\n",
    "from __future__ import print_function\n",
    "from keras.models import Sequential\n",
    "from keras.layers import Dense, Dropout, Activation, Flatten\n",
    "from keras.layers import Dense, GlobalAveragePooling2D, Lambda\n",
    "from keras.layers import Conv2D, MaxPooling2D\n",
    "import os"
   ]
  },
  {
   "cell_type": "markdown",
   "metadata": {
    "colab_type": "text",
    "id": "Lr68KxOF4Ao7"
   },
   "source": [
    "### load data\n"
   ]
  },
  {
   "cell_type": "code",
   "execution_count": 82,
   "metadata": {
    "colab": {
     "autoexec": {
      "startup": false,
      "wait_interval": 0
     }
    },
    "colab_type": "code",
    "id": "ujVvFkmX8j50"
   },
   "outputs": [],
   "source": [
    "folder = '/home/baiyeqi/Data Science/Data/Sign Language MNIST/Processed Data/v1'\n",
    "X_train = np.load(folder + '/X_train.npy')\n",
    "X_test = np.load(folder + '/X_test.npy')\n",
    "y_train = np.load(folder + '/Y_train.npy')\n",
    "y_test = np.load(folder + '/Y_test.npy')"
   ]
  },
  {
   "cell_type": "code",
   "execution_count": 83,
   "metadata": {},
   "outputs": [
    {
     "data": {
      "text/plain": [
       "((4691, 28, 28), (1088, 28, 28), (4691,), (1088,))"
      ]
     },
     "execution_count": 83,
     "metadata": {},
     "output_type": "execute_result"
    }
   ],
   "source": [
    "X_train.shape, X_test.shape, y_train.shape, y_test.shape"
   ]
  },
  {
   "cell_type": "code",
   "execution_count": 84,
   "metadata": {
    "colab": {
     "autoexec": {
      "startup": false,
      "wait_interval": 0
     }
    },
    "colab_type": "code",
    "id": "fOVC7gwBAZ12"
   },
   "outputs": [],
   "source": [
    "#one hot encoding\n",
    "encoder = OneHotEncoder()\n",
    "encoder = encoder.fit(y_test.reshape(-1, 1))\n",
    "y_test = encoder.transform(y_test.reshape(-1, 1)).toarray()\n",
    "\n",
    "encoder = OneHotEncoder()\n",
    "encoder = encoder.fit(y_train.reshape(-1, 1))\n",
    "y_train = encoder.transform(y_train.reshape(-1, 1)).toarray()\n"
   ]
  },
  {
   "cell_type": "code",
   "execution_count": 85,
   "metadata": {},
   "outputs": [],
   "source": [
    "x_train = X_train.astype('float32')\n",
    "x_test = X_test.astype('float32')\n",
    "x_train /= 255\n",
    "x_test /= 255\n",
    "x_train = x_train.reshape(x_train.shape + (1,))\n",
    "x_test = x_test.reshape(x_test.shape + (1,))"
   ]
  },
  {
   "cell_type": "code",
   "execution_count": 86,
   "metadata": {},
   "outputs": [
    {
     "data": {
      "text/plain": [
       "(1088, 28, 28, 1)"
      ]
     },
     "execution_count": 86,
     "metadata": {},
     "output_type": "execute_result"
    }
   ],
   "source": [
    "x_test.shape"
   ]
  },
  {
   "cell_type": "markdown",
   "metadata": {
    "colab_type": "text",
    "id": "uNrkJuk_DbT8"
   },
   "source": [
    "### Build the model"
   ]
  },
  {
   "cell_type": "code",
   "execution_count": 87,
   "metadata": {},
   "outputs": [
    {
     "data": {
      "text/plain": [
       "5997"
      ]
     },
     "execution_count": 87,
     "metadata": {},
     "output_type": "execute_result"
    }
   ],
   "source": [
    "import gc\n",
    "gc.collect()"
   ]
  },
  {
   "cell_type": "code",
   "execution_count": 88,
   "metadata": {},
   "outputs": [],
   "source": [
    "# softmax for tf version\n",
    "\n",
    "def soft_max(x):\n",
    "    import tensorflow as tf\n",
    "    return tf.nn.softmax(x)"
   ]
  },
  {
   "cell_type": "code",
   "execution_count": 89,
   "metadata": {},
   "outputs": [],
   "source": [
    "model = Sequential()\n",
    "model.add(Conv2D(32, (3, 3), padding='same',\n",
    "                 input_shape=x_train.shape[1:]))\n",
    "model.add(Activation('relu'))\n",
    "model.add(Conv2D(32, (3, 3)))\n",
    "model.add(Activation('relu'))\n",
    "model.add(MaxPooling2D(pool_size=(2, 2)))\n",
    "model.add(Dropout(0.25))\n",
    "\n",
    "model.add(Conv2D(64, (3, 3), padding='same'))\n",
    "model.add(Activation('relu'))\n",
    "model.add(Conv2D(64, (3, 3)))\n",
    "model.add(Activation('relu'))\n",
    "model.add(MaxPooling2D(pool_size=(2, 2)))\n",
    "model.add(Dropout(0.25))\n",
    "\n",
    "model.add(Flatten())\n",
    "model.add(Dense(512))\n",
    "model.add(Activation('relu'))\n",
    "model.add(Dropout(0.5))\n",
    "model.add(Dense(4))"
   ]
  },
  {
   "cell_type": "code",
   "execution_count": 90,
   "metadata": {},
   "outputs": [],
   "source": [
    "dense_out = model.output\n",
    "\n",
    "predictions = Lambda(lambda x: soft_max(x))(dense_out)\n",
    "\n",
    "# this is the model we will train\n",
    "model = Model(inputs=model.input, outputs=predictions)\n",
    "\n",
    "# compile the model (should be done *after* setting layers to non-trainable)\n",
    "model.compile(optimizer='rmsprop', loss='categorical_crossentropy')\n"
   ]
  },
  {
   "cell_type": "markdown",
   "metadata": {
    "colab_type": "text",
    "id": "MgS7vpZv-Xto"
   },
   "source": [
    "### Prediction"
   ]
  },
  {
   "cell_type": "code",
   "execution_count": 91,
   "metadata": {
    "colab": {
     "autoexec": {
      "startup": false,
      "wait_interval": 0
     }
    },
    "colab_type": "code",
    "id": "xAPXur6c-W8s"
   },
   "outputs": [],
   "source": [
    "def predict_score(model=model):\n",
    "    \n",
    "    y_pred = model.predict(x_test)\n",
    "\n",
    "    y_pred = np.round(y_pred)\n",
    "\n",
    "    score = accuracy_score(y_test, y_pred)\n",
    "\n",
    "    return score\n",
    "\n"
   ]
  },
  {
   "cell_type": "code",
   "execution_count": 92,
   "metadata": {
    "colab": {
     "autoexec": {
      "startup": false,
      "wait_interval": 0
     },
     "base_uri": "https://localhost:8080/",
     "height": 73
    },
    "colab_type": "code",
    "id": "6lFrJcMXDYiM",
    "outputId": "361b4032-34d2-442a-bcc9-f8f218da4c64"
   },
   "outputs": [
    {
     "name": "stdout",
     "output_type": "stream",
     "text": [
      "Train on 4691 samples, validate on 1088 samples\n",
      "Epoch 1/1\n",
      "4691/4691 [==============================] - 2s 478us/step - loss: 0.2918 - val_loss: 0.1526\n",
      "Epoch 0: accuracy = 0.9503676470588235\n",
      "Train on 4691 samples, validate on 1088 samples\n",
      "Epoch 1/1\n",
      "4691/4691 [==============================] - 2s 426us/step - loss: 0.0203 - val_loss: 0.0437\n",
      "Epoch 1: accuracy = 0.9816176470588235\n"
     ]
    }
   ],
   "source": [
    "epoch = 2\n",
    "for i in range(epoch):\n",
    "    model.fit(x = x_train, y = y_train, validation_data=(x_test, y_test), epochs = 1, batch_size = 16)\n",
    "    score = predict_score(model)\n",
    "    print(\"Epoch \" + str(i) + \": accuracy = \" + str(score))"
   ]
  },
  {
   "cell_type": "markdown",
   "metadata": {},
   "source": [
    "## Save the model without softmax"
   ]
  },
  {
   "cell_type": "code",
   "execution_count": 94,
   "metadata": {},
   "outputs": [
    {
     "name": "stdout",
     "output_type": "stream",
     "text": [
      "_________________________________________________________________\n",
      "Layer (type)                 Output Shape              Param #   \n",
      "=================================================================\n",
      "conv2d_26_input (InputLayer) (None, 28, 28, 1)         0         \n",
      "_________________________________________________________________\n",
      "conv2d_26 (Conv2D)           (None, 28, 28, 32)        320       \n",
      "_________________________________________________________________\n",
      "activation_32 (Activation)   (None, 28, 28, 32)        0         \n",
      "_________________________________________________________________\n",
      "conv2d_27 (Conv2D)           (None, 26, 26, 32)        9248      \n",
      "_________________________________________________________________\n",
      "activation_33 (Activation)   (None, 26, 26, 32)        0         \n",
      "_________________________________________________________________\n",
      "max_pooling2d_13 (MaxPooling (None, 13, 13, 32)        0         \n",
      "_________________________________________________________________\n",
      "dropout_19 (Dropout)         (None, 13, 13, 32)        0         \n",
      "_________________________________________________________________\n",
      "conv2d_28 (Conv2D)           (None, 13, 13, 64)        18496     \n",
      "_________________________________________________________________\n",
      "activation_34 (Activation)   (None, 13, 13, 64)        0         \n",
      "_________________________________________________________________\n",
      "conv2d_29 (Conv2D)           (None, 11, 11, 64)        36928     \n",
      "_________________________________________________________________\n",
      "activation_35 (Activation)   (None, 11, 11, 64)        0         \n",
      "_________________________________________________________________\n",
      "max_pooling2d_14 (MaxPooling (None, 5, 5, 64)          0         \n",
      "_________________________________________________________________\n",
      "dropout_20 (Dropout)         (None, 5, 5, 64)          0         \n",
      "_________________________________________________________________\n",
      "flatten_7 (Flatten)          (None, 1600)              0         \n",
      "_________________________________________________________________\n",
      "dense_12 (Dense)             (None, 512)               819712    \n",
      "_________________________________________________________________\n",
      "activation_36 (Activation)   (None, 512)               0         \n",
      "_________________________________________________________________\n",
      "dropout_21 (Dropout)         (None, 512)               0         \n",
      "_________________________________________________________________\n",
      "dense_13 (Dense)             (None, 4)                 2052      \n",
      "=================================================================\n",
      "Total params: 886,756\n",
      "Trainable params: 886,756\n",
      "Non-trainable params: 0\n",
      "_________________________________________________________________\n"
     ]
    }
   ],
   "source": [
    "new_model = Model(inputs=model.input, outputs=dense_out)\n",
    "new_model.summary()"
   ]
  },
  {
   "cell_type": "code",
   "execution_count": 95,
   "metadata": {},
   "outputs": [],
   "source": [
    "new_model.save('sign lang v1.h5')"
   ]
  },
  {
   "cell_type": "markdown",
   "metadata": {},
   "source": [
    "## Reload Model"
   ]
  },
  {
   "cell_type": "code",
   "execution_count": 21,
   "metadata": {},
   "outputs": [],
   "source": [
    "from keras.models import load_model"
   ]
  },
  {
   "cell_type": "code",
   "execution_count": 22,
   "metadata": {},
   "outputs": [
    {
     "name": "stderr",
     "output_type": "stream",
     "text": [
      "/home/baiyeqi/anaconda3/envs/TensorFlow/lib/python3.5/site-packages/keras/engine/saving.py:270: UserWarning: No training configuration found in save file: the model was *not* compiled. Compile it manually.\n",
      "  warnings.warn('No training configuration found in save file: '\n"
     ]
    }
   ],
   "source": [
    "lmodel = load_model('/home/baiyeqi/Data Science/Models/Brain Cells/3 level/acc_9_75_base.h5')"
   ]
  },
  {
   "cell_type": "markdown",
   "metadata": {},
   "source": [
    "### Put back the softmax layer"
   ]
  },
  {
   "cell_type": "code",
   "execution_count": 26,
   "metadata": {},
   "outputs": [],
   "source": [
    "# softmax for tf version\n",
    "\n",
    "def soft_max(x):\n",
    "    import tensorflow as tf\n",
    "    return tf.nn.softmax(x)"
   ]
  },
  {
   "cell_type": "code",
   "execution_count": 27,
   "metadata": {},
   "outputs": [],
   "source": [
    "from keras import optimizers\n",
    "rms = optimizers.RMSprop(lr=0.001, rho=0.9, epsilon=None, decay=0.0)"
   ]
  },
  {
   "cell_type": "code",
   "execution_count": 28,
   "metadata": {},
   "outputs": [],
   "source": [
    "x = lmodel.output\n",
    "predictions = Lambda(lambda x: soft_max(x))(x)\n",
    "lmodel = Model(inputs=lmodel.input, outputs=predictions)\n",
    "lmodel.compile(optimizer=rms, loss='categorical_crossentropy')"
   ]
  },
  {
   "cell_type": "code",
   "execution_count": null,
   "metadata": {},
   "outputs": [
    {
     "name": "stdout",
     "output_type": "stream",
     "text": [
      "Train on 8100 samples, validate on 900 samples\n",
      "Epoch 1/1\n"
     ]
    }
   ],
   "source": [
    "epoch = 1\n",
    "for i in range(epoch):\n",
    "    model.fit(x = X_train, y = y_train, validation_data=(X_test, y_test), epochs = 1, batch_size = 8)\n",
    "    score = predict_score()\n",
    "    print(\"Epoch \" + str(i) + \": accuracy = \" + str(score))\n",
    "    # model.save(\"drive/Colab Notebooks/Shopee Competition/Tops/Models/Tops Inception/Tops_Inception_epoch\" + str(i) + \".h5\")"
   ]
  },
  {
   "cell_type": "code",
   "execution_count": null,
   "metadata": {},
   "outputs": [],
   "source": []
  }
 ],
 "metadata": {
  "kernelspec": {
   "display_name": "Python 3",
   "language": "python",
   "name": "python3"
  },
  "language_info": {
   "codemirror_mode": {
    "name": "ipython",
    "version": 3
   },
   "file_extension": ".py",
   "mimetype": "text/x-python",
   "name": "python",
   "nbconvert_exporter": "python",
   "pygments_lexer": "ipython3",
   "version": "3.5.5"
  }
 },
 "nbformat": 4,
 "nbformat_minor": 2
}
