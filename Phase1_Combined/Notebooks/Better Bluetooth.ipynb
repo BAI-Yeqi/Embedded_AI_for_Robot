{
 "cells": [
  {
   "cell_type": "code",
   "execution_count": 19,
   "metadata": {},
   "outputs": [],
   "source": [
    "import tkinter as tk"
   ]
  },
  {
   "cell_type": "code",
   "execution_count": 1,
   "metadata": {},
   "outputs": [],
   "source": [
    "import serial\n",
    "# from serial import serial\n",
    "import time"
   ]
  },
  {
   "cell_type": "code",
   "execution_count": 2,
   "metadata": {
    "scrolled": true
   },
   "outputs": [
    {
     "name": "stdout",
     "output_type": "stream",
     "text": [
      "Start\n",
      "Connected\n"
     ]
    }
   ],
   "source": [
    "print(\"Start\")\n",
    "#port=\"/dev/tty.HC-06-DevB\" #This will be different for various devices and on windows it will probably be a COM port.\n",
    "port = \"COM8\"\n",
    "bluetooth=serial.Serial(port, 9600)#Start communications with the bluetooth unit\n",
    "print(\"Connected\")\n",
    "bluetooth.flushInput() #This gives the bluetooth a little kick"
   ]
  },
  {
   "cell_type": "code",
   "execution_count": 14,
   "metadata": {},
   "outputs": [],
   "source": [
    "def command(cmd):\n",
    "    print(\"Ping\")\n",
    "    bluetooth.write(cmd.encode())\n",
    "    print(\"Bytes written\")\n",
    "\n",
    "    #This reads the incoming data. In this particular example it will be the \"Hello from Blue\" line\n",
    "    input_data=bluetooth.readline()\n",
    "    print(input_data.decode())#These are bytes coming in so a decode is needed\n",
    "    time.sleep(1) #A pause between bursts\n",
    "    print(\"Done\")\n",
    "    return 0"
   ]
  },
  {
   "cell_type": "code",
   "execution_count": 15,
   "metadata": {},
   "outputs": [
    {
     "name": "stdout",
     "output_type": "stream",
     "text": [
      "Ping\n",
      "Bytes written\n",
      "Hello from Blue 1\n",
      "\n",
      "Done\n"
     ]
    },
    {
     "data": {
      "text/plain": [
       "0"
      ]
     },
     "execution_count": 15,
     "metadata": {},
     "output_type": "execute_result"
    }
   ],
   "source": [
    "command(\"fwd_1s\")"
   ]
  },
  {
   "cell_type": "code",
   "execution_count": 16,
   "metadata": {},
   "outputs": [
    {
     "name": "stdout",
     "output_type": "stream",
     "text": [
      "Ping\n",
      "Bytes written\n",
      "Hello from Blue 2\n",
      "\n",
      "Done\n"
     ]
    },
    {
     "data": {
      "text/plain": [
       "0"
      ]
     },
     "execution_count": 16,
     "metadata": {},
     "output_type": "execute_result"
    }
   ],
   "source": [
    "command(\"left_1s\")"
   ]
  },
  {
   "cell_type": "code",
   "execution_count": 17,
   "metadata": {},
   "outputs": [
    {
     "name": "stdout",
     "output_type": "stream",
     "text": [
      "Ping\n",
      "Bytes written\n",
      "Hello from Blue 3\n",
      "\n",
      "Done\n"
     ]
    },
    {
     "data": {
      "text/plain": [
       "0"
      ]
     },
     "execution_count": 17,
     "metadata": {},
     "output_type": "execute_result"
    }
   ],
   "source": [
    "command(\"left_bit\")"
   ]
  },
  {
   "cell_type": "code",
   "execution_count": 18,
   "metadata": {},
   "outputs": [
    {
     "name": "stdout",
     "output_type": "stream",
     "text": [
      "Ping\n",
      "Bytes written\n",
      "Ready!!!\n",
      "\n",
      "Done\n"
     ]
    },
    {
     "data": {
      "text/plain": [
       "0"
      ]
     },
     "execution_count": 18,
     "metadata": {},
     "output_type": "execute_result"
    }
   ],
   "source": [
    "command(\"fwd_bit\")"
   ]
  },
  {
   "cell_type": "code",
   "execution_count": null,
   "metadata": {},
   "outputs": [],
   "source": []
  }
 ],
 "metadata": {
  "kernelspec": {
   "display_name": "Python 3",
   "language": "python",
   "name": "python3"
  },
  "language_info": {
   "codemirror_mode": {
    "name": "ipython",
    "version": 3
   },
   "file_extension": ".py",
   "mimetype": "text/x-python",
   "name": "python",
   "nbconvert_exporter": "python",
   "pygments_lexer": "ipython3",
   "version": "3.6.6"
  }
 },
 "nbformat": 4,
 "nbformat_minor": 2
}
