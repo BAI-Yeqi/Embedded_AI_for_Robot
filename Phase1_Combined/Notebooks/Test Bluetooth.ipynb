{
 "cells": [
  {
   "cell_type": "code",
   "execution_count": 19,
   "metadata": {},
   "outputs": [],
   "source": [
    "import serial\n",
    "# from serial import serial\n",
    "import time"
   ]
  },
  {
   "cell_type": "code",
   "execution_count": 20,
   "metadata": {},
   "outputs": [
    {
     "name": "stdout",
     "output_type": "stream",
     "text": [
      "Start\n",
      "Connected\n"
     ]
    }
   ],
   "source": [
    "print(\"Start\")\n",
    "#port=\"/dev/tty.HC-06-DevB\" #This will be different for various devices and on windows it will probably be a COM port.\n",
    "port = \"COM8\"\n",
    "bluetooth=serial.Serial(port, 9600)#Start communications with the bluetooth unit\n",
    "print(\"Connected\")\n",
    "bluetooth.flushInput() #This gives the bluetooth a little kick"
   ]
  },
  {
   "cell_type": "code",
   "execution_count": 22,
   "metadata": {},
   "outputs": [
    {
     "name": "stdout",
     "output_type": "stream",
     "text": [
      "Ping\n",
      "Bytes written\n",
      "Hello from Blue 19\n",
      "\n",
      "Ping\n",
      "Bytes written\n",
      "Hello from Blue 20\n",
      "\n",
      "Ping\n",
      "Bytes written\n",
      "Hello from Blue 21\n",
      "\n",
      "Ping\n",
      "Bytes written\n",
      "Hello from Blue 22\n",
      "\n",
      "Ping\n",
      "Bytes written\n",
      "Hello from Blue 23\n",
      "\n",
      "Done\n"
     ]
    }
   ],
   "source": [
    "for i in range(5): #send 5 groups of data to the bluetooth\n",
    "    print(\"Ping\")\n",
    "    # bluetooth.write(b\"BOOP \"+str.encode(str(i)))#These need to be bytes not unicode, plus a number\n",
    "    bluetooth.write(\"BOOP 2\".encode())\n",
    "    print(\"Bytes written\")\n",
    "    \n",
    "    #This reads the incoming data. In this particular example it will be the \"Hello from Blue\" line\n",
    "    input_data=bluetooth.readline()\n",
    "    print(input_data.decode())#These are bytes coming in so a decode is needed\n",
    "    time.sleep(1) #A pause between bursts\n",
    "bluetooth.close() #Otherwise the connection will remain open until a timeout which ties up the /dev/thingamabob\n",
    "print(\"Done\")"
   ]
  },
  {
   "cell_type": "code",
   "execution_count": 3,
   "metadata": {},
   "outputs": [
    {
     "data": {
      "text/plain": [
       "'3.4'"
      ]
     },
     "execution_count": 3,
     "metadata": {},
     "output_type": "execute_result"
    }
   ],
   "source": [
    "serial.__version__"
   ]
  },
  {
   "cell_type": "code",
   "execution_count": null,
   "metadata": {},
   "outputs": [],
   "source": []
  }
 ],
 "metadata": {
  "kernelspec": {
   "display_name": "Python 3",
   "language": "python",
   "name": "python3"
  },
  "language_info": {
   "codemirror_mode": {
    "name": "ipython",
    "version": 3
   },
   "file_extension": ".py",
   "mimetype": "text/x-python",
   "name": "python",
   "nbconvert_exporter": "python",
   "pygments_lexer": "ipython3",
   "version": "3.6.6"
  }
 },
 "nbformat": 4,
 "nbformat_minor": 2
}
