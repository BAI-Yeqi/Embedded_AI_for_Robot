{
  "nbformat": 4,
  "nbformat_minor": 0,
  "metadata": {
    "colab": {
      "name": "DIP_Model_v1.ipynb",
      "version": "0.3.2",
      "provenance": [],
      "collapsed_sections": [],
      "include_colab_link": true
    },
    "kernelspec": {
      "display_name": "Python 3",
      "language": "python",
      "name": "python3"
    }
  },
  "cells": [
    {
      "cell_type": "markdown",
      "metadata": {
        "id": "view-in-github",
        "colab_type": "text"
      },
      "source": [
        "[![Open In Colab](https://colab.research.google.com/assets/colab-badge.svg)](https://colab.research.google.com/github/BAI-Yeqi/Embedded_AI_for_Robot/blob/master/DIP_Model_processed.ipynb)"
      ]
    },
    {
      "metadata": {
        "id": "Qi6Cwz5ZBZuv",
        "colab_type": "text"
      },
      "cell_type": "markdown",
      "source": [
        "# Get training set\n",
        "## Find a suitable existing dataset\n",
        "### https://www.kaggle.com/datamunge/sign-language-mnist"
      ]
    },
    {
      "metadata": {
        "id": "thJ43lgjBZuv",
        "colab_type": "text"
      },
      "cell_type": "markdown",
      "source": [
        "## Data Processing\n",
        "### Find downloaded dataset and extract specific gestures."
      ]
    },
    {
      "metadata": {
        "id": "RWTSF49sD5Er",
        "colab_type": "code",
        "colab": {}
      },
      "cell_type": "code",
      "source": [
        "# To read files on google drive:\n",
        "!pip install -U -q PyDrive\n",
        "from pydrive.auth import GoogleAuth\n",
        "from pydrive.drive import GoogleDrive\n",
        "from google.colab import auth\n",
        "from oauth2client.client import GoogleCredentials\n",
        "\n",
        "# authorization\n",
        "auth.authenticate_user()\n",
        "gauth = GoogleAuth()\n",
        "gauth.credentials = GoogleCredentials.get_application_default()\n",
        "drive = GoogleDrive(gauth)"
      ],
      "execution_count": 0,
      "outputs": []
    },
    {
      "metadata": {
        "id": "d_WsWlGLBZuw",
        "colab_type": "code",
        "outputId": "d2ea8a66-6345-4bee-a488-92a66ca46f25",
        "colab": {
          "base_uri": "https://localhost:8080/",
          "height": 34
        }
      },
      "cell_type": "code",
      "source": [
        "# import some packages for data processing\n",
        "import numpy as np\n",
        "import pandas as pd\n",
        "import matplotlib.pyplot as plt\n",
        "!apt-get -qq install -y libsm6 libxext6 && pip install -q -U opencv-python\n",
        "import cv2\n",
        "# path of downloaded training set: C:\\Users\\scorp\\Downloads\\sign-language-mnist\n",
        "file_id = '1Dc9s_zFS0L4CdoBMKA4dUyg6f0h7CfEf'\n",
        "downloaded = drive.CreateFile({'id': file_id})\n",
        "downloaded.GetContentFile('sign_mnist_test.csv')\n",
        "test_df = pd.read_csv(\"sign_mnist_test.csv\")\n",
        "print(test_df.shape)\n",
        "#downloaded.GetContentFile('sign_mnist_train.csv')\n",
        "#data_path = \"C:/Users/scorp/Downloads/sign-language-mnist\"\n",
        "#train_csv = data_path + \"/sign_mnist_train.csv\"\n",
        "#test_csv = data_path + \"/sign_mnist_test.csv\"\n",
        "#train_df = pd.read_csv(train_csv)"
      ],
      "execution_count": 0,
      "outputs": [
        {
          "output_type": "stream",
          "text": [
            "(7172, 785)\n"
          ],
          "name": "stdout"
        }
      ]
    },
    {
      "metadata": {
        "id": "J76Dxw_4HR6J",
        "colab_type": "code",
        "outputId": "f1e5d2e2-6bfc-4a4e-d859-42ca46d70780",
        "colab": {
          "base_uri": "https://localhost:8080/",
          "height": 248
        }
      },
      "cell_type": "code",
      "source": [
        "#set file folder\n",
        "!mkdir -p drive\n",
        "!google-drive-ocamlfuse drive\n",
        "import os\n",
        "!ls\n",
        "os.chdir(\"drive/Colab/DIP\")"
      ],
      "execution_count": 0,
      "outputs": [
        {
          "output_type": "stream",
          "text": [
            "/bin/bash: google-drive-ocamlfuse: command not found\n",
            "adc.json  model.h5     sign_mnist_test.csv\n",
            "drive\t  sample_data  sign_mnist_train.csv\n"
          ],
          "name": "stdout"
        },
        {
          "output_type": "error",
          "ename": "FileNotFoundError",
          "evalue": "ignored",
          "traceback": [
            "\u001b[0;31m---------------------------------------------------------------------------\u001b[0m",
            "\u001b[0;31mFileNotFoundError\u001b[0m                         Traceback (most recent call last)",
            "\u001b[0;32m<ipython-input-63-3fa03c9eee46>\u001b[0m in \u001b[0;36m<module>\u001b[0;34m()\u001b[0m\n\u001b[1;32m      3\u001b[0m \u001b[0;32mimport\u001b[0m \u001b[0mos\u001b[0m\u001b[0;34m\u001b[0m\u001b[0m\n\u001b[1;32m      4\u001b[0m \u001b[0mget_ipython\u001b[0m\u001b[0;34m(\u001b[0m\u001b[0;34m)\u001b[0m\u001b[0;34m.\u001b[0m\u001b[0msystem\u001b[0m\u001b[0;34m(\u001b[0m\u001b[0;34m'ls'\u001b[0m\u001b[0;34m)\u001b[0m\u001b[0;34m\u001b[0m\u001b[0m\n\u001b[0;32m----> 5\u001b[0;31m \u001b[0mos\u001b[0m\u001b[0;34m.\u001b[0m\u001b[0mchdir\u001b[0m\u001b[0;34m(\u001b[0m\u001b[0;34m\"drive/Colab/DIP\"\u001b[0m\u001b[0;34m)\u001b[0m\u001b[0;34m\u001b[0m\u001b[0m\n\u001b[0m",
            "\u001b[0;31mFileNotFoundError\u001b[0m: [Errno 2] No such file or directory: 'drive/Colab/DIP'"
          ]
        }
      ]
    },
    {
      "metadata": {
        "id": "wRpA2vJWBZu1",
        "colab_type": "code",
        "outputId": "394c1b79-6e1c-4cd1-8e62-16903af87290",
        "colab": {
          "base_uri": "https://localhost:8080/",
          "height": 34
        }
      },
      "cell_type": "code",
      "source": [
        "#train_df = pd.read_csv(train_csv)\n",
        "file_id = '1qL6X1XnDF2xa1C4d3gA59URzd8b87YFw'\n",
        "downloaded = drive.CreateFile({'id': file_id})\n",
        "downloaded.GetContentFile('sign_mnist_train.csv')\n",
        "train_df = pd.read_csv(\"sign_mnist_train.csv\")\n",
        "train_df.shape"
      ],
      "execution_count": 0,
      "outputs": [
        {
          "output_type": "execute_result",
          "data": {
            "text/plain": [
              "(27455, 785)"
            ]
          },
          "metadata": {
            "tags": []
          },
          "execution_count": 3
        }
      ]
    },
    {
      "metadata": {
        "id": "zWHWGx6_BZu2",
        "colab_type": "code",
        "outputId": "b356d7a3-3fe1-47d2-92f7-91e2e13d20f9",
        "colab": {
          "base_uri": "https://localhost:8080/",
          "height": 191
        }
      },
      "cell_type": "code",
      "source": [
        "train_df.head(3)"
      ],
      "execution_count": 0,
      "outputs": [
        {
          "output_type": "execute_result",
          "data": {
            "text/html": [
              "<div>\n",
              "<style scoped>\n",
              "    .dataframe tbody tr th:only-of-type {\n",
              "        vertical-align: middle;\n",
              "    }\n",
              "\n",
              "    .dataframe tbody tr th {\n",
              "        vertical-align: top;\n",
              "    }\n",
              "\n",
              "    .dataframe thead th {\n",
              "        text-align: right;\n",
              "    }\n",
              "</style>\n",
              "<table border=\"1\" class=\"dataframe\">\n",
              "  <thead>\n",
              "    <tr style=\"text-align: right;\">\n",
              "      <th></th>\n",
              "      <th>label</th>\n",
              "      <th>pixel1</th>\n",
              "      <th>pixel2</th>\n",
              "      <th>pixel3</th>\n",
              "      <th>pixel4</th>\n",
              "      <th>pixel5</th>\n",
              "      <th>pixel6</th>\n",
              "      <th>pixel7</th>\n",
              "      <th>pixel8</th>\n",
              "      <th>pixel9</th>\n",
              "      <th>...</th>\n",
              "      <th>pixel775</th>\n",
              "      <th>pixel776</th>\n",
              "      <th>pixel777</th>\n",
              "      <th>pixel778</th>\n",
              "      <th>pixel779</th>\n",
              "      <th>pixel780</th>\n",
              "      <th>pixel781</th>\n",
              "      <th>pixel782</th>\n",
              "      <th>pixel783</th>\n",
              "      <th>pixel784</th>\n",
              "    </tr>\n",
              "  </thead>\n",
              "  <tbody>\n",
              "    <tr>\n",
              "      <th>0</th>\n",
              "      <td>3</td>\n",
              "      <td>107</td>\n",
              "      <td>118</td>\n",
              "      <td>127</td>\n",
              "      <td>134</td>\n",
              "      <td>139</td>\n",
              "      <td>143</td>\n",
              "      <td>146</td>\n",
              "      <td>150</td>\n",
              "      <td>153</td>\n",
              "      <td>...</td>\n",
              "      <td>207</td>\n",
              "      <td>207</td>\n",
              "      <td>207</td>\n",
              "      <td>207</td>\n",
              "      <td>206</td>\n",
              "      <td>206</td>\n",
              "      <td>206</td>\n",
              "      <td>204</td>\n",
              "      <td>203</td>\n",
              "      <td>202</td>\n",
              "    </tr>\n",
              "    <tr>\n",
              "      <th>1</th>\n",
              "      <td>6</td>\n",
              "      <td>155</td>\n",
              "      <td>157</td>\n",
              "      <td>156</td>\n",
              "      <td>156</td>\n",
              "      <td>156</td>\n",
              "      <td>157</td>\n",
              "      <td>156</td>\n",
              "      <td>158</td>\n",
              "      <td>158</td>\n",
              "      <td>...</td>\n",
              "      <td>69</td>\n",
              "      <td>149</td>\n",
              "      <td>128</td>\n",
              "      <td>87</td>\n",
              "      <td>94</td>\n",
              "      <td>163</td>\n",
              "      <td>175</td>\n",
              "      <td>103</td>\n",
              "      <td>135</td>\n",
              "      <td>149</td>\n",
              "    </tr>\n",
              "    <tr>\n",
              "      <th>2</th>\n",
              "      <td>2</td>\n",
              "      <td>187</td>\n",
              "      <td>188</td>\n",
              "      <td>188</td>\n",
              "      <td>187</td>\n",
              "      <td>187</td>\n",
              "      <td>186</td>\n",
              "      <td>187</td>\n",
              "      <td>188</td>\n",
              "      <td>187</td>\n",
              "      <td>...</td>\n",
              "      <td>202</td>\n",
              "      <td>201</td>\n",
              "      <td>200</td>\n",
              "      <td>199</td>\n",
              "      <td>198</td>\n",
              "      <td>199</td>\n",
              "      <td>198</td>\n",
              "      <td>195</td>\n",
              "      <td>194</td>\n",
              "      <td>195</td>\n",
              "    </tr>\n",
              "  </tbody>\n",
              "</table>\n",
              "<p>3 rows × 785 columns</p>\n",
              "</div>"
            ],
            "text/plain": [
              "   label  pixel1  pixel2  pixel3  pixel4  pixel5  pixel6  pixel7  pixel8  \\\n",
              "0      3     107     118     127     134     139     143     146     150   \n",
              "1      6     155     157     156     156     156     157     156     158   \n",
              "2      2     187     188     188     187     187     186     187     188   \n",
              "\n",
              "   pixel9    ...     pixel775  pixel776  pixel777  pixel778  pixel779  \\\n",
              "0     153    ...          207       207       207       207       206   \n",
              "1     158    ...           69       149       128        87        94   \n",
              "2     187    ...          202       201       200       199       198   \n",
              "\n",
              "   pixel780  pixel781  pixel782  pixel783  pixel784  \n",
              "0       206       206       204       203       202  \n",
              "1       163       175       103       135       149  \n",
              "2       199       198       195       194       195  \n",
              "\n",
              "[3 rows x 785 columns]"
            ]
          },
          "metadata": {
            "tags": []
          },
          "execution_count": 4
        }
      ]
    },
    {
      "metadata": {
        "id": "gp2kYfRVBZu7",
        "colab_type": "code",
        "outputId": "29a557f2-7138-4b9e-b1ef-7fa312b4b826",
        "colab": {
          "base_uri": "https://localhost:8080/",
          "height": 34
        }
      },
      "cell_type": "code",
      "source": [
        "train_arr = train_df.values\n",
        "test_arr = test_df.values\n",
        "train_arr.shape,test_arr.shape"
      ],
      "execution_count": 0,
      "outputs": [
        {
          "output_type": "execute_result",
          "data": {
            "text/plain": [
              "((27455, 785), (7172, 785))"
            ]
          },
          "metadata": {
            "tags": []
          },
          "execution_count": 5
        }
      ]
    },
    {
      "metadata": {
        "id": "E-vSOLAoBZu-",
        "colab_type": "code",
        "outputId": "06518af7-c5ac-49ff-a2d3-4b1a276cab63",
        "colab": {
          "base_uri": "https://localhost:8080/",
          "height": 34
        }
      },
      "cell_type": "code",
      "source": [
        "test = train_arr[3,1:]\n",
        "test = np.reshape(test, [28,28])\n",
        "test.shape"
      ],
      "execution_count": 0,
      "outputs": [
        {
          "output_type": "execute_result",
          "data": {
            "text/plain": [
              "(28, 28)"
            ]
          },
          "metadata": {
            "tags": []
          },
          "execution_count": 6
        }
      ]
    },
    {
      "metadata": {
        "id": "zmCdySfoBZvB",
        "colab_type": "text"
      },
      "cell_type": "markdown",
      "source": [
        "## command list:\n",
        "       forward:3\n",
        "       turn left: 6\n",
        "       spin: 16\n",
        "       no command: 0"
      ]
    },
    {
      "metadata": {
        "id": "lyOkdAHWdqOd",
        "colab_type": "code",
        "outputId": "59215ff9-3c9e-4a68-ec49-cfa7a4d4babd",
        "colab": {
          "base_uri": "https://localhost:8080/",
          "height": 136
        }
      },
      "cell_type": "code",
      "source": [
        "test_arr"
      ],
      "execution_count": 0,
      "outputs": [
        {
          "output_type": "execute_result",
          "data": {
            "text/plain": [
              "array([[  6, 149, 149, ..., 112, 120, 107],\n",
              "       [  5, 126, 128, ..., 184, 182, 180],\n",
              "       [ 10,  85,  88, ..., 225, 224, 222],\n",
              "       ...,\n",
              "       [  2, 190, 191, ..., 211, 209, 208],\n",
              "       [  4, 201, 205, ...,  67,  70,  63],\n",
              "       [  2, 173, 174, ..., 195, 193, 192]])"
            ]
          },
          "metadata": {
            "tags": []
          },
          "execution_count": 7
        }
      ]
    },
    {
      "metadata": {
        "id": "zLMKtAomdqLR",
        "colab_type": "code",
        "outputId": "60e78e04-e4b1-45e4-a625-730e385f80f1",
        "colab": {
          "base_uri": "https://localhost:8080/",
          "height": 34
        }
      },
      "cell_type": "code",
      "source": [
        "test_arr[:,0]"
      ],
      "execution_count": 0,
      "outputs": [
        {
          "output_type": "execute_result",
          "data": {
            "text/plain": [
              "array([ 6,  5, 10, ...,  2,  4,  2])"
            ]
          },
          "metadata": {
            "tags": []
          },
          "execution_count": 8
        }
      ]
    },
    {
      "metadata": {
        "id": "aJ6RuF1w4Xjp",
        "colab_type": "code",
        "colab": {}
      },
      "cell_type": "code",
      "source": [
        "def process_train(img,label,i):\n",
        "  X_train.append(cv2.resize(img[:20,:20],(28,28), interpolation=cv2.INTER_NEAREST))\n",
        "  Y_train.append(label)\n",
        "  X_train.append(cv2.resize(img[0:20,7:27],(28,28), interpolation=cv2.INTER_NEAREST))\n",
        "  Y_train.append(label)\n",
        "  X_train.append(cv2.resize(img[7:27,0:20],(28,28), interpolation=cv2.INTER_NEAREST))\n",
        "  Y_train.append(label)\n",
        "  X_train.append(cv2.resize(img[7:27,7:27],(28,28), interpolation=cv2.INTER_NEAREST))\n",
        "  Y_train.append(label)\n",
        "  X_train.append(train)\n",
        "  Y_train.append(label)\n",
        "  X_train.append(np.clip(img+100,0,255))\n",
        "  Y_train.append(label)\n",
        "  X_train.append(np.clip(img-100,0,255))\n",
        "  Y_train.append(label)\n",
        "  X_train.append(np.clip(img+50,0,255))\n",
        "  Y_train.append(label)\n",
        "  X_train.append(np.clip(img-50,0,255))\n",
        "  Y_train.append(label)"
      ],
      "execution_count": 0,
      "outputs": []
    },
    {
      "metadata": {
        "id": "LfRNPCtNBZvD",
        "colab_type": "code",
        "outputId": "ad4bf1d8-45fe-44df-a454-fc521bc0c44d",
        "colab": {
          "base_uri": "https://localhost:8080/",
          "height": 34
        }
      },
      "cell_type": "code",
      "source": [
        "X_train = []\n",
        "Y_train = []\n",
        "for i in range(train_arr.shape[0]):\n",
        "    label = train_arr[i][0]\n",
        "    if label == 3:\n",
        "        train = np.reshape(train_arr[i,1:],[28,28])\n",
        "        process_train(train,1,i)\n",
        "        \n",
        "    elif label == 6:\n",
        "        train = np.reshape(train_arr[i,1:],[28,28])\n",
        "        process_train(train,2,i)\n",
        "        \n",
        "    elif label == 16:\n",
        "        train = np.reshape(train_arr[i,1:],[28,28])\n",
        "        process_train(train,3,i)\n",
        "    \n",
        "    elif label == 0:\n",
        "        train = np.reshape(train_arr[i,1:],[28,28])\n",
        "        process_train(train,0,i)\n",
        "        \n",
        "X_train = np.array(X_train)\n",
        "Y_train = np.array(Y_train)\n",
        "X_train.shape"
      ],
      "execution_count": 0,
      "outputs": [
        {
          "output_type": "execute_result",
          "data": {
            "text/plain": [
              "(42219, 28, 28)"
            ]
          },
          "metadata": {
            "tags": []
          },
          "execution_count": 32
        }
      ]
    },
    {
      "metadata": {
        "id": "xFmg_vFR6uOI",
        "colab_type": "code",
        "colab": {}
      },
      "cell_type": "code",
      "source": [
        "def process_test(img,label,i):\n",
        "  X_test.append(cv2.resize(img[:20,:20],(28,28), interpolation=cv2.INTER_NEAREST))\n",
        "  Y_test.append(label)\n",
        "  X_test.append(cv2.resize(img[0:20,7:27],(28,28), interpolation=cv2.INTER_NEAREST))\n",
        "  Y_test.append(label)\n",
        "  X_test.append(cv2.resize(img[7:27,0:20],(28,28), interpolation=cv2.INTER_NEAREST))\n",
        "  Y_test.append(label)\n",
        "  X_test.append(cv2.resize(img[7:27,7:27],(28,28), interpolation=cv2.INTER_NEAREST))\n",
        "  Y_test.append(label)\n",
        "  X_test.append(train)\n",
        "  Y_test.append(label)\n",
        "  X_test.append(np.clip(img+100,0,255))\n",
        "  Y_test.append(label)\n",
        "  X_test.append(np.clip(img-100,0,255))\n",
        "  Y_test.append(label)\n",
        "  X_test.append(np.clip(img+50,0,255))\n",
        "  Y_test.append(label)\n",
        "  X_test.append(np.clip(img-50,0,255))\n",
        "  Y_test.append(label)"
      ],
      "execution_count": 0,
      "outputs": []
    },
    {
      "metadata": {
        "id": "HghCeH8cBZvG",
        "colab_type": "code",
        "outputId": "7387cf2f-eee5-4c6f-a2f2-5ffe5762ff2f",
        "colab": {
          "base_uri": "https://localhost:8080/",
          "height": 34
        }
      },
      "cell_type": "code",
      "source": [
        "X_test = []\n",
        "Y_test = []\n",
        "for i in range(test_arr.shape[0]):\n",
        "    label = test_arr[i][0] \n",
        "    if label == 3:\n",
        "        test = np.reshape(test_arr[i,1:],[28,28])\n",
        "        process_test(test,1,i)\n",
        "        \n",
        "    elif label == 6:\n",
        "        test = np.reshape(test_arr[i,1:],[28,28])\n",
        "        process_test(test,2,i)\n",
        "        \n",
        "    elif label == 16:\n",
        "        test = np.reshape(test_arr[i,1:],[28,28])\n",
        "        process_test(test,3,i)\n",
        "    \n",
        "    elif label == 0:\n",
        "        test = np.reshape(test_arr[i,1:],[28,28])\n",
        "        process_test(test,0,i)\n",
        "        \n",
        "\n",
        "X_test = np.array(X_test)\n",
        "Y_test = np.array(Y_test)\n",
        "X_test.shape"
      ],
      "execution_count": 0,
      "outputs": [
        {
          "output_type": "execute_result",
          "data": {
            "text/plain": [
              "(9792, 28, 28)"
            ]
          },
          "metadata": {
            "tags": []
          },
          "execution_count": 34
        }
      ]
    },
    {
      "metadata": {
        "id": "QQLhuD79BZvI",
        "colab_type": "code",
        "outputId": "5514d116-76e1-4faf-d5d4-4c90dadad991",
        "colab": {
          "base_uri": "https://localhost:8080/",
          "height": 34
        }
      },
      "cell_type": "code",
      "source": [
        "'''np.save(\"X_train.npy\",X_train)\n",
        "np.save(\"X_test.npy\",X_test)\n",
        "np.save(\"Y_train.npy\",Y_train)\n",
        "np.save(\"X_test.npy\",Y_test)'''"
      ],
      "execution_count": 0,
      "outputs": [
        {
          "output_type": "execute_result",
          "data": {
            "text/plain": [
              "'np.save(\"X_train.npy\",X_train)\\nnp.save(\"X_test.npy\",X_test)\\nnp.save(\"Y_train.npy\",Y_train)\\nnp.save(\"X_test.npy\",Y_test)'"
            ]
          },
          "metadata": {
            "tags": []
          },
          "execution_count": 45
        }
      ]
    },
    {
      "metadata": {
        "id": "13geScmqRPz9",
        "colab_type": "text"
      },
      "cell_type": "markdown",
      "source": [
        "## Finally we are able to build our very basic model"
      ]
    },
    {
      "metadata": {
        "id": "3AX_w1elRTl7",
        "colab_type": "text"
      },
      "cell_type": "markdown",
      "source": [
        "### Check device & import modules"
      ]
    },
    {
      "metadata": {
        "id": "gbt3I3VSBZvP",
        "colab_type": "code",
        "outputId": "219faecb-6784-4390-a543-8e80da48ad9d",
        "colab": {
          "base_uri": "https://localhost:8080/",
          "height": 119
        }
      },
      "cell_type": "code",
      "source": [
        "from tensorflow.python.client import device_lib\n",
        "device_lib.list_local_devices()"
      ],
      "execution_count": 0,
      "outputs": [
        {
          "output_type": "execute_result",
          "data": {
            "text/plain": [
              "[name: \"/device:CPU:0\"\n",
              " device_type: \"CPU\"\n",
              " memory_limit: 268435456\n",
              " locality {\n",
              " }\n",
              " incarnation: 17420820258684729063]"
            ]
          },
          "metadata": {
            "tags": []
          },
          "execution_count": 35
        }
      ]
    },
    {
      "metadata": {
        "id": "k2CKa9CARgq4",
        "colab_type": "code",
        "colab": {}
      },
      "cell_type": "code",
      "source": [
        "from sklearn.preprocessing import OneHotEncoder\n",
        "from keras import layers\n",
        "from keras.models import Model, load_model\n",
        "from keras import regularizers\n",
        "import keras\n",
        "\n",
        "from sklearn.metrics import accuracy_score\n",
        "\n",
        "from __future__ import print_function\n",
        "from keras.models import Sequential\n",
        "from keras.layers import Dense, Dropout, Activation, Flatten\n",
        "from keras.layers import Dense, GlobalAveragePooling2D, Lambda\n",
        "from keras.layers import Conv2D, MaxPooling2D\n",
        "import os"
      ],
      "execution_count": 0,
      "outputs": []
    },
    {
      "metadata": {
        "id": "6WCwdOc_UI_D",
        "colab_type": "text"
      },
      "cell_type": "markdown",
      "source": [
        "### Load & process data"
      ]
    },
    {
      "metadata": {
        "id": "xfsqIC0GRwzO",
        "colab_type": "code",
        "outputId": "a902fd06-86df-4376-facb-7cd52d22c3fc",
        "colab": {
          "base_uri": "https://localhost:8080/",
          "height": 34
        }
      },
      "cell_type": "code",
      "source": [
        "X_train.shape,Y_train.shape,X_test.shape,Y_test.shape"
      ],
      "execution_count": 0,
      "outputs": [
        {
          "output_type": "execute_result",
          "data": {
            "text/plain": [
              "((42219, 28, 28), (42219,), (9792, 28, 28), (9792,))"
            ]
          },
          "metadata": {
            "tags": []
          },
          "execution_count": 37
        }
      ]
    },
    {
      "metadata": {
        "id": "iassCJtKSSx4",
        "colab_type": "code",
        "colab": {}
      },
      "cell_type": "code",
      "source": [
        "#one hot encoding, like what we do in DE:000->00000001,001->00000010...\n",
        "encoder = OneHotEncoder()\n",
        "encoder = encoder.fit(Y_test.reshape(-1, 1))\n",
        "Y_test = encoder.transform(Y_test.reshape(-1, 1)).toarray()\n",
        "\n",
        "encoder = OneHotEncoder()\n",
        "encoder = encoder.fit(Y_train.reshape(-1, 1))\n",
        "Y_train = encoder.transform(Y_train.reshape(-1, 1)).toarray()"
      ],
      "execution_count": 0,
      "outputs": []
    },
    {
      "metadata": {
        "id": "MTlQhwmxTYaM",
        "colab_type": "code",
        "colab": {}
      },
      "cell_type": "code",
      "source": [
        "X_train = X_train.astype('float32')\n",
        "X_test = X_test.astype('float32')\n",
        "X_train /= 255\n",
        "X_test /= 255\n",
        "X_train = X_train.reshape(X_train.shape + (1,))\n",
        "X_test = X_test.reshape(X_test.shape + (1,))\n"
      ],
      "execution_count": 0,
      "outputs": []
    },
    {
      "metadata": {
        "id": "qYoHv61Rfc4z",
        "colab_type": "code",
        "outputId": "74c088b9-7cdc-4c70-d7d7-8e06c7ea2296",
        "colab": {
          "base_uri": "https://localhost:8080/",
          "height": 34
        }
      },
      "cell_type": "code",
      "source": [
        "X_train.shape,Y_train.shape,X_test.shape,Y_test.shape"
      ],
      "execution_count": 0,
      "outputs": [
        {
          "output_type": "execute_result",
          "data": {
            "text/plain": [
              "((42219, 28, 28, 1), (42219, 4), (9792, 28, 28, 1), (9792, 4))"
            ]
          },
          "metadata": {
            "tags": []
          },
          "execution_count": 40
        }
      ]
    },
    {
      "metadata": {
        "id": "TTqHCzOuUKDK",
        "colab_type": "text"
      },
      "cell_type": "markdown",
      "source": [
        "### Build the model"
      ]
    },
    {
      "metadata": {
        "id": "8JAlvc40U_W6",
        "colab_type": "code",
        "outputId": "36754f8c-6295-499a-e839-488c73c8d691",
        "colab": {
          "base_uri": "https://localhost:8080/",
          "height": 34
        }
      },
      "cell_type": "code",
      "source": [
        "import gc\n",
        "gc.collect()\n",
        "#collect garbages"
      ],
      "execution_count": 0,
      "outputs": [
        {
          "output_type": "execute_result",
          "data": {
            "text/plain": [
              "1123"
            ]
          },
          "metadata": {
            "tags": []
          },
          "execution_count": 41
        }
      ]
    },
    {
      "metadata": {
        "id": "apUFYy8YVEyC",
        "colab_type": "code",
        "colab": {}
      },
      "cell_type": "code",
      "source": [
        "# for some reason, we need to use softmax from tensorflow\n",
        "def soft_max(x):\n",
        "    import tensorflow as tf\n",
        "    return tf.nn.softmax(x)"
      ],
      "execution_count": 0,
      "outputs": []
    },
    {
      "metadata": {
        "id": "q5Qn3Q85VNgX",
        "colab_type": "code",
        "colab": {}
      },
      "cell_type": "code",
      "source": [
        "model = Sequential()\n",
        "model.add(Conv2D(32, (3, 3), padding='same',\n",
        "                 input_shape=X_train.shape[1:]))#insert the input layer by conv2d(for image),output shape is (,28,28,32)\n",
        "model.add(Activation('relu'))#set activation function to relu, can also be leaky relu, sigmoid, linear...\n",
        "model.add(Conv2D(32, (3, 3)))#input of second layer\n",
        "model.add(Activation('relu'))\n",
        "model.add(MaxPooling2D(pool_size=(2, 2)))\n",
        "model.add(Dropout(0.25)) #set drop-out rate in case of high variance\n",
        "\n",
        "model.add(Conv2D(64, (3, 3), padding='same'))\n",
        "model.add(Activation('relu'))\n",
        "model.add(Conv2D(64, (3, 3)))\n",
        "model.add(Activation('relu'))\n",
        "model.add(MaxPooling2D(pool_size=(2, 2)))\n",
        "model.add(Dropout(0.25))\n",
        "\n",
        "model.add(Flatten())\n",
        "model.add(Dense(512))\n",
        "model.add(Activation('relu'))\n",
        "model.add(Dropout(0.5))\n",
        "model.add(Dense(4))"
      ],
      "execution_count": 0,
      "outputs": []
    },
    {
      "metadata": {
        "id": "1wOAuMIEVQmg",
        "colab_type": "code",
        "outputId": "17583eba-bde1-4b1e-ed64-f29bc31c839f",
        "colab": {
          "base_uri": "https://localhost:8080/",
          "height": 34
        }
      },
      "cell_type": "code",
      "source": [
        "\"\"\"\n",
        "we can also do it in this way:\n",
        "model = sequential([\n",
        "  Dense;\n",
        "  Activation;\n",
        "  Dense;\n",
        "  Activation\n",
        "])\n",
        "\"\"\""
      ],
      "execution_count": 0,
      "outputs": [
        {
          "output_type": "execute_result",
          "data": {
            "text/plain": [
              "'\\nwe can also do it in this way:\\nmodel = sequential([\\n  Dense;\\n  Activation;\\n  Dense;\\n  Activation\\n])\\n'"
            ]
          },
          "metadata": {
            "tags": []
          },
          "execution_count": 55
        }
      ]
    },
    {
      "metadata": {
        "id": "plJxRCQ4avwA",
        "colab_type": "text"
      },
      "cell_type": "markdown",
      "source": [
        ""
      ]
    },
    {
      "metadata": {
        "id": "iud19tYPWFXF",
        "colab_type": "code",
        "colab": {}
      },
      "cell_type": "code",
      "source": [
        "dense_out = model.output\n",
        "\n",
        "predictions = Lambda(lambda x: soft_max(x))(dense_out)\n",
        "\n",
        "# this is the model we will train\n",
        "model = Model(inputs=model.input, outputs=predictions)\n",
        "\n",
        "# compile the model (should be done *after* setting layers to non-trainable)\n",
        "model.compile(optimizer='rmsprop', loss='categorical_crossentropy')"
      ],
      "execution_count": 0,
      "outputs": []
    },
    {
      "metadata": {
        "id": "n_we2D4DWHcI",
        "colab_type": "code",
        "colab": {}
      },
      "cell_type": "code",
      "source": [
        "#X_train = np.expand_dims(X_train,0)"
      ],
      "execution_count": 0,
      "outputs": []
    },
    {
      "metadata": {
        "id": "j8PbKpAMX7LM",
        "colab_type": "code",
        "outputId": "9c873de0-7f55-46ec-b728-a2f7212b5d78",
        "colab": {
          "base_uri": "https://localhost:8080/",
          "height": 34
        }
      },
      "cell_type": "code",
      "source": [
        "X_train.shape"
      ],
      "execution_count": 0,
      "outputs": [
        {
          "output_type": "execute_result",
          "data": {
            "text/plain": [
              "(42219, 28, 28, 1)"
            ]
          },
          "metadata": {
            "tags": []
          },
          "execution_count": 45
        }
      ]
    },
    {
      "metadata": {
        "id": "EfoyInd3Wd7Y",
        "colab_type": "text"
      },
      "cell_type": "markdown",
      "source": [
        "## Prediction"
      ]
    },
    {
      "metadata": {
        "id": "IHpndUy-Wg6o",
        "colab_type": "code",
        "colab": {}
      },
      "cell_type": "code",
      "source": [
        "def predict_score(model=model):\n",
        "    \n",
        "    y_pred = model.predict(X_test)\n",
        "\n",
        "    y_pred = np.round(y_pred)\n",
        "\n",
        "    score = accuracy_score(Y_test, y_pred)\n",
        "\n",
        "    return score"
      ],
      "execution_count": 0,
      "outputs": []
    },
    {
      "metadata": {
        "id": "FqgMkhJ8WjX7",
        "colab_type": "code",
        "outputId": "f1c3447b-2389-45ef-e6fe-93964b111113",
        "colab": {
          "base_uri": "https://localhost:8080/",
          "height": 357
        }
      },
      "cell_type": "code",
      "source": [
        "epoch = 5\n",
        "for i in range(epoch):\n",
        "    model.fit(x = X_train, y = Y_train, validation_data=(X_test, Y_test), epochs = 1, batch_size = 32)\n",
        "    score = predict_score(model)\n",
        "    print(\"Epoch \" + str(i) + \": accuracy = \" + str(score))"
      ],
      "execution_count": 0,
      "outputs": [
        {
          "output_type": "stream",
          "text": [
            "Train on 42219 samples, validate on 9792 samples\n",
            "Epoch 1/1\n",
            "42219/42219 [==============================] - 200s 5ms/step - loss: 0.7133 - val_loss: 1.5887\n",
            "Epoch 0: accuracy = 0.7948325163398693\n",
            "Train on 42219 samples, validate on 9792 samples\n",
            "Epoch 1/1\n",
            "42219/42219 [==============================] - 188s 4ms/step - loss: 0.5464 - val_loss: 1.6242\n",
            "Epoch 1: accuracy = 0.7777777777777778\n",
            "Train on 42219 samples, validate on 9792 samples\n",
            "Epoch 1/1\n",
            "42219/42219 [==============================] - 198s 5ms/step - loss: 0.6265 - val_loss: 1.4752\n",
            "Epoch 2: accuracy = 0.8242442810457516\n",
            "Train on 42219 samples, validate on 9792 samples\n",
            "Epoch 1/1\n",
            "42219/42219 [==============================] - 197s 5ms/step - loss: 1.3416 - val_loss: 1.8470\n",
            "Epoch 3: accuracy = 0.8218954248366013\n",
            "Train on 42219 samples, validate on 9792 samples\n",
            "Epoch 1/1\n",
            "42219/42219 [==============================] - 187s 4ms/step - loss: 4.3011 - val_loss: 4.6598\n",
            "Epoch 4: accuracy = 0.7100694444444444\n"
          ],
          "name": "stdout"
        }
      ]
    },
    {
      "metadata": {
        "id": "4XYkxUKjAJXM",
        "colab_type": "text"
      },
      "cell_type": "markdown",
      "source": [
        "## Save the model without softmax"
      ]
    },
    {
      "metadata": {
        "id": "3N1nnHRgAO8R",
        "colab_type": "code",
        "outputId": "66a2eb6d-ad10-41b8-87ba-2bdaa382c6c8",
        "colab": {
          "base_uri": "https://localhost:8080/",
          "height": 748
        }
      },
      "cell_type": "code",
      "source": [
        "\n",
        "new_model = Model(inputs=model.input, outputs=dense_out)\n",
        "new_model.summary()"
      ],
      "execution_count": 0,
      "outputs": [
        {
          "output_type": "stream",
          "text": [
            "_________________________________________________________________\n",
            "Layer (type)                 Output Shape              Param #   \n",
            "=================================================================\n",
            "conv2d_1_input (InputLayer)  (None, 28, 28, 1)         0         \n",
            "_________________________________________________________________\n",
            "conv2d_1 (Conv2D)            (None, 28, 28, 32)        320       \n",
            "_________________________________________________________________\n",
            "activation_1 (Activation)    (None, 28, 28, 32)        0         \n",
            "_________________________________________________________________\n",
            "conv2d_2 (Conv2D)            (None, 26, 26, 32)        9248      \n",
            "_________________________________________________________________\n",
            "activation_2 (Activation)    (None, 26, 26, 32)        0         \n",
            "_________________________________________________________________\n",
            "max_pooling2d_1 (MaxPooling2 (None, 13, 13, 32)        0         \n",
            "_________________________________________________________________\n",
            "dropout_1 (Dropout)          (None, 13, 13, 32)        0         \n",
            "_________________________________________________________________\n",
            "conv2d_3 (Conv2D)            (None, 13, 13, 64)        18496     \n",
            "_________________________________________________________________\n",
            "activation_3 (Activation)    (None, 13, 13, 64)        0         \n",
            "_________________________________________________________________\n",
            "conv2d_4 (Conv2D)            (None, 11, 11, 64)        36928     \n",
            "_________________________________________________________________\n",
            "activation_4 (Activation)    (None, 11, 11, 64)        0         \n",
            "_________________________________________________________________\n",
            "max_pooling2d_2 (MaxPooling2 (None, 5, 5, 64)          0         \n",
            "_________________________________________________________________\n",
            "dropout_2 (Dropout)          (None, 5, 5, 64)          0         \n",
            "_________________________________________________________________\n",
            "flatten_1 (Flatten)          (None, 1600)              0         \n",
            "_________________________________________________________________\n",
            "dense_1 (Dense)              (None, 512)               819712    \n",
            "_________________________________________________________________\n",
            "activation_5 (Activation)    (None, 512)               0         \n",
            "_________________________________________________________________\n",
            "dropout_3 (Dropout)          (None, 512)               0         \n",
            "_________________________________________________________________\n",
            "dense_2 (Dense)              (None, 4)                 2052      \n",
            "=================================================================\n",
            "Total params: 886,756\n",
            "Trainable params: 886,756\n",
            "Non-trainable params: 0\n",
            "_________________________________________________________________\n"
          ],
          "name": "stdout"
        }
      ]
    },
    {
      "metadata": {
        "id": "pEvNsDcEFvL2",
        "colab_type": "code",
        "colab": {}
      },
      "cell_type": "code",
      "source": [
        "#new_model.save(\"modelname.h5\")\n",
        "new_model.save(\"model.h5\")\n",
        "model_file = drive.CreateFile({'title' : 'model.h5'})\n",
        "model_file.SetContentFile('model.h5')\n",
        "model_file.Upload()"
      ],
      "execution_count": 0,
      "outputs": []
    },
    {
      "metadata": {
        "id": "YC4aqxmmCCfI",
        "colab_type": "code",
        "outputId": "4bd308c9-f21c-4788-e5bd-44f4a4d6474e",
        "colab": {
          "base_uri": "https://localhost:8080/",
          "height": 34
        }
      },
      "cell_type": "code",
      "source": [
        "!ls"
      ],
      "execution_count": 0,
      "outputs": [
        {
          "output_type": "stream",
          "text": [
            "adc.json  model.h5  sample_data  sign_mnist_test.csv  sign_mnist_train.csv\n"
          ],
          "name": "stdout"
        }
      ]
    },
    {
      "metadata": {
        "id": "XmnyizIQHELR",
        "colab_type": "code",
        "outputId": "5d2ba9f2-11f7-487e-abe4-f550e17866ef",
        "colab": {
          "base_uri": "https://localhost:8080/",
          "height": 34
        }
      },
      "cell_type": "code",
      "source": [
        "!mkdir -p drive\n",
        "!google-drive-ocamlfuse drive"
      ],
      "execution_count": 0,
      "outputs": [
        {
          "output_type": "stream",
          "text": [
            "/bin/bash: google-drive-ocamlfuse: command not found\n"
          ],
          "name": "stdout"
        }
      ]
    },
    {
      "metadata": {
        "id": "kKALGdQ_HJkJ",
        "colab_type": "code",
        "outputId": "fe5136c5-6220-4d34-fc1b-eb2a28f06bb9",
        "colab": {
          "base_uri": "https://localhost:8080/",
          "height": 51
        }
      },
      "cell_type": "code",
      "source": [
        "!ls"
      ],
      "execution_count": 0,
      "outputs": [
        {
          "output_type": "stream",
          "text": [
            "adc.json  model.h5     sign_mnist_test.csv\n",
            "drive\t  sample_data  sign_mnist_train.csv\n"
          ],
          "name": "stdout"
        }
      ]
    },
    {
      "metadata": {
        "id": "xD8Wi7R6HK4c",
        "colab_type": "code",
        "colab": {}
      },
      "cell_type": "code",
      "source": [
        ""
      ],
      "execution_count": 0,
      "outputs": []
    }
  ]
}
