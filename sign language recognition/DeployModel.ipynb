{
  "nbformat": 4,
  "nbformat_minor": 0,
  "metadata": {
    "colab": {
      "name": "DeployModel.ipynb",
      "version": "0.3.2",
      "provenance": []
    },
    "kernelspec": {
      "name": "python3",
      "display_name": "Python 3"
    }
  },
  "cells": [
    {
      "metadata": {
        "id": "uClgXcdIu5-R",
        "colab_type": "text"
      },
      "cell_type": "markdown",
      "source": [
        "### Load Model from Google Drive\n"
      ]
    },
    {
      "metadata": {
        "id": "TJF6y6wjvCdb",
        "colab_type": "code",
        "colab": {
          "base_uri": "https://localhost:8080/",
          "height": 34
        },
        "outputId": "683ca602-4573-4017-80c2-49f1aa8d354a"
      },
      "cell_type": "code",
      "source": [
        "!pip install -U -q PyDrive\n",
        "from pydrive.auth import GoogleAuth\n",
        "from pydrive.drive import GoogleDrive\n",
        "from google.colab import auth\n",
        "from oauth2client.client import GoogleCredentials\n",
        "from google.colab import files\n",
        "import keras\n",
        "\n",
        "from keras.models import Model, load_model\n",
        "\n",
        "\n",
        "from keras.layers import Lambda\n",
        "import os\n",
        "# authorization\n",
        "auth.authenticate_user()\n",
        "gauth = GoogleAuth()\n",
        "gauth.credentials = GoogleCredentials.get_application_default()\n",
        "drive = GoogleDrive(gauth)"
      ],
      "execution_count": 1,
      "outputs": [
        {
          "output_type": "stream",
          "text": [
            "Using TensorFlow backend.\n"
          ],
          "name": "stderr"
        }
      ]
    },
    {
      "metadata": {
        "id": "CHos8cWSvR5I",
        "colab_type": "code",
        "colab": {}
      },
      "cell_type": "code",
      "source": [
        "#softmax layer\n",
        "def soft_max(x):\n",
        "    import tensorflow as tf\n",
        "    return tf.nn.softmax(x)"
      ],
      "execution_count": 0,
      "outputs": []
    },
    {
      "metadata": {
        "id": "LeDavyS8vl9B",
        "colab_type": "code",
        "colab": {
          "base_uri": "https://localhost:8080/",
          "height": 51
        },
        "outputId": "25ed22c0-027f-4170-8168-949e84e55269"
      },
      "cell_type": "code",
      "source": [
        "file_id = '1cDvam2G2hilZW62H_-ApMFXXMH7PDdn6'\n",
        "downloaded = drive.CreateFile({'id': file_id})\n",
        "downloaded.GetContentFile('model.h5')\n",
        "lmodel = load_model('model.h5')"
      ],
      "execution_count": 3,
      "outputs": [
        {
          "output_type": "stream",
          "text": [
            "/usr/local/lib/python3.6/dist-packages/keras/models.py:282: UserWarning: No training configuration found in save file: the model was *not* compiled. Compile it manually.\n",
            "  warnings.warn('No training configuration found in save file: '\n"
          ],
          "name": "stderr"
        }
      ]
    },
    {
      "metadata": {
        "id": "v29cVhBdvbhC",
        "colab_type": "code",
        "colab": {}
      },
      "cell_type": "code",
      "source": [
        "from keras import optimizers\n",
        "rms = optimizers.RMSprop(lr=0.001, rho=0.9, epsilon=None, decay=0.0)\n",
        "x = lmodel.output\n",
        "predictions = Lambda(lambda x: soft_max(x))(x)\n",
        "lmodel = Model(inputs=lmodel.input, outputs=predictions)\n",
        "lmodel.compile(optimizer=rms, loss='categorical_crossentropy')"
      ],
      "execution_count": 0,
      "outputs": []
    },
    {
      "metadata": {
        "id": "nxB49wHmvhhI",
        "colab_type": "code",
        "colab": {}
      },
      "cell_type": "code",
      "source": [
        "#load picture\n",
        "file_id = '1cH1JpRvW6YgT3cXHLOGWG5BwSs-clshA'\n",
        "downloaded = drive.CreateFile({'id': file_id})\n",
        "downloaded.GetContentFile('test.png')\n",
        "#import cv2\n",
        "!apt-get -qq install -y libsm6 libxext6 && pip install -q -U opencv-python\n",
        "import cv2\n",
        "test_img = cv2.imread('test.png')\n",
        "test_gcimg = cv2.cvtColor(test_img, cv2.COLOR_BGR2GRAY)"
      ],
      "execution_count": 0,
      "outputs": []
    },
    {
      "metadata": {
        "id": "kdJEkQNl0ymh",
        "colab_type": "code",
        "colab": {
          "base_uri": "https://localhost:8080/",
          "height": 34
        },
        "outputId": "c594686a-9e51-4453-98aa-3eb2f77f4fd2"
      },
      "cell_type": "code",
      "source": [
        "\n",
        "test_img = cv2.resize(test_gcimg,dsize=(28,28),interpolation=cv2.INTER_LINEAR)\n",
        "test_img = test_img.astype('float32')\n",
        "test_img *= (1/255)\n",
        "test_img = test_img.reshape((1,)+test_img.shape + (1,))\n",
        "test_img.shape"
      ],
      "execution_count": 41,
      "outputs": [
        {
          "output_type": "execute_result",
          "data": {
            "text/plain": [
              "(1, 28, 28, 1)"
            ]
          },
          "metadata": {
            "tags": []
          },
          "execution_count": 41
        }
      ]
    },
    {
      "metadata": {
        "id": "vXFPqqy02Nqj",
        "colab_type": "code",
        "colab": {
          "base_uri": "https://localhost:8080/",
          "height": 34
        },
        "outputId": "3ed1d127-46c9-4ae2-eab9-f2b942a9caca"
      },
      "cell_type": "code",
      "source": [
        "lmodel.predict(test_img)"
      ],
      "execution_count": 42,
      "outputs": [
        {
          "output_type": "execute_result",
          "data": {
            "text/plain": [
              "array([[0., 0., 0., 1.]], dtype=float32)"
            ]
          },
          "metadata": {
            "tags": []
          },
          "execution_count": 42
        }
      ]
    },
    {
      "metadata": {
        "id": "F6e728iu3vhX",
        "colab_type": "code",
        "colab": {}
      },
      "cell_type": "code",
      "source": [
        ""
      ],
      "execution_count": 0,
      "outputs": []
    }
  ]
}